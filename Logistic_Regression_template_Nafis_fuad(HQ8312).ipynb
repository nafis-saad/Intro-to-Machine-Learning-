{
  "cells": [
    {
      "cell_type": "code",
      "execution_count": 164,
      "metadata": {
        "id": "P_YWF2-wlvKC"
      },
      "outputs": [],
      "source": [
        "import numpy as np\n",
        "from numpy import *\n",
        "from matplotlib import pyplot as plt"
      ]
    },
    {
      "cell_type": "code",
      "source": [
        "from google.colab import drive\n",
        "drive.mount('/content/drive')"
      ],
      "metadata": {
        "colab": {
          "base_uri": "https://localhost:8080/"
        },
        "id": "9RA8nvNUt6xk",
        "outputId": "01afac59-a755-4229-9e9e-9e9c1813336d"
      },
      "execution_count": 165,
      "outputs": [
        {
          "output_type": "stream",
          "name": "stdout",
          "text": [
            "Drive already mounted at /content/drive; to attempt to forcibly remount, call drive.mount(\"/content/drive\", force_remount=True).\n"
          ]
        }
      ]
    },
    {
      "cell_type": "code",
      "execution_count": 166,
      "metadata": {
        "id": "O9riGdnZlvKD"
      },
      "outputs": [],
      "source": [
        "X = []\n",
        "y = []"
      ]
    },
    {
      "cell_type": "code",
      "execution_count": 167,
      "metadata": {
        "id": "9geIPLgnlvKD"
      },
      "outputs": [],
      "source": [
        "def loadDataSet():\n",
        "    f=open('/content/drive/MyDrive/Nafis_Ovi/Question5.txt')\n",
        "    # Read data line by line and use strip to remove the Spaces\n",
        "    for line in f.readlines():\n",
        "        nline=line.strip().split()\n",
        "        # X has two columns\n",
        "        X.append([float(nline[0]),float(nline[1])])\n",
        "        y.append(int(nline[2]))\n",
        "    return mat(X).T,mat(y)"
      ]
    },
    {
      "cell_type": "code",
      "execution_count": 168,
      "metadata": {
        "id": "NlQDIO_MlvKD"
      },
      "outputs": [],
      "source": [
        "X,y=loadDataSet()"
      ]
    },
    {
      "cell_type": "code",
      "source": [
        "X.shape"
      ],
      "metadata": {
        "colab": {
          "base_uri": "https://localhost:8080/"
        },
        "id": "kWNAmmniuHkA",
        "outputId": "cb83c17c-c9a6-4c5d-995b-9129038cf242"
      },
      "execution_count": 169,
      "outputs": [
        {
          "output_type": "execute_result",
          "data": {
            "text/plain": [
              "(2, 100)"
            ]
          },
          "metadata": {},
          "execution_count": 169
        }
      ]
    },
    {
      "cell_type": "code",
      "execution_count": 170,
      "metadata": {
        "id": "7JpI0_e1lvKE"
      },
      "outputs": [],
      "source": [
        "def sigmoid(x):\n",
        "     sigm = 1/(1+exp(-x))\n",
        "\n",
        "     return sigm"
      ]
    },
    {
      "cell_type": "code",
      "source": [
        "J = []\n",
        "y_hat = []"
      ],
      "metadata": {
        "id": "LxafZWZKcDCw"
      },
      "execution_count": 171,
      "outputs": []
    },
    {
      "cell_type": "code",
      "execution_count": 172,
      "metadata": {
        "id": "P2bO-XhKlvKE"
      },
      "outputs": [],
      "source": [
        "def Logistic(X,y,W,b,n,alpha,iterations):\n",
        "\n",
        "    '''\n",
        "    X: input data\n",
        "    y: labels\n",
        "    W: weight\n",
        "    b: bias\n",
        "    n: number of samples\n",
        "    alpha: learning rate\n",
        "    iterations: the number of iteration\n",
        "    '''\n",
        "\n",
        "    J = zeros((iterations,1))\n",
        "    y_hat = zeros((1,n))\n",
        "    for i in range(iterations):\n",
        "\n",
        "        # step1 forward propagation\n",
        "        #==========\n",
        "        #todo '''complete forward propagation equation'''\n",
        "        #==========\n",
        "\n",
        "        fp = None\n",
        "        fp = sigmoid(np.dot(W,X) + b)\n",
        "\n",
        "        # compute cost function\n",
        "        #==========\n",
        "        #todo '''complete compute cost function equation'''\n",
        "        #==========\n",
        "\n",
        "        cost = -1/n * np.sum( np.multiply(np.log(fp), y) + np.multiply(np.log(1-fp), (1-y)))\n",
        "        J[i] = cost\n",
        "\n",
        "        # step2 backpropagation\n",
        "        #==========\n",
        "        #todo '''complete backpropagation equations'''\n",
        "        #==========\n",
        "        dw = (1/n) * np.dot(X, (fp - y).T)\n",
        "        db = (1/n) * np.sum(fp - y)\n",
        "\n",
        "        #db = (1/n) * np.sum(fp - y, axis = 1)\n",
        "\n",
        "        # step3 gradient descent\n",
        "        #==========\n",
        "        #todo '''complete gradientdescent equations'''\n",
        "        #==========\n",
        "        W = W - alpha * dw\n",
        "        b = b - alpha * db\n",
        "\n",
        "        if i < fp.shape[1]:  # Check if i is within the valid column indices of fp\n",
        "          if fp[0, i] > 0.5:\n",
        "            y_hat[0, i] = 1\n",
        "          else:\n",
        "            y_hat[0, i] = 0\n",
        "\n",
        "\n",
        "        # if fp[0,i] > 0.5:\n",
        "        #     y_hat[0,i] = 1\n",
        "        # else:\n",
        "        #     y_hat[0,i] = 0\n",
        "\n",
        "    return y_hat,W,b,J"
      ]
    },
    {
      "cell_type": "code",
      "execution_count": 173,
      "metadata": {
        "id": "IPqMcTTZlvKE"
      },
      "outputs": [],
      "source": [
        "def plotBestFit(X,y,J,W,b,n,y_hat):\n",
        "\n",
        "    '''\n",
        "    X: input data\n",
        "    y: labels\n",
        "    J: cost values\n",
        "    W: weight\n",
        "    b: bias\n",
        "    n: number of samples\n",
        "    y_hat: the predict labels from Logistic Regression\n",
        "    '''\n",
        "\n",
        "    # Plot cost function figure\n",
        "    #==========\n",
        "    plt.title('The Cost function')\n",
        "    plt.plot(J,label=\"loss\")\n",
        "    plt.xlabel('Epcho')\n",
        "    plt.ylabel('Loss')\n",
        "    plt.show()\n",
        "    #==========\n",
        "\n",
        "    # Plot the final classification figure\n",
        "    #==========\n",
        "    x1 = (-W[0] * X[:,0]) / W[1]\n",
        "    x2 = (-W[0] * X[:,1]) / W[1]\n",
        "\n",
        "    colors = [i for i in y]\n",
        "    fig = plt.figure()\n",
        "    ax1 = fig.add_subplot(111)\n",
        "    plt.title('Scatter value of the final classification')\n",
        "    ax1.scatter([X[0][:,:]],[X[1][:,:]],c=colors,marker=\"s\",label='X')\n",
        "    plt.plot(x1,x2,c='b',marker=\"o\")\n",
        "    plt.xlabel('X')\n",
        "    plt.ylabel('Y')\n",
        "    plt.show()\n",
        "    #==========\n",
        "\n",
        "    plt.show()"
      ]
    },
    {
      "cell_type": "code",
      "execution_count": 174,
      "metadata": {
        "id": "YRRt96EclvKE"
      },
      "outputs": [],
      "source": [
        "num = X.shape[0]  # number of features\n",
        "n = X.shape[1] # number of samples"
      ]
    },
    {
      "cell_type": "code",
      "execution_count": 175,
      "metadata": {
        "id": "7fDw9PjxlvKE"
      },
      "outputs": [],
      "source": [
        "# Initianlize the weights and bias\n",
        "#==========\n",
        "#todo '''complete the code to initianlize the weights and bias'''\n",
        "#==========\n",
        "W = [random.uniform(0, 1), random.uniform(0, 1)]\n",
        "W = np.asmatrix(W)\n",
        "b = random.uniform(0, 1)"
      ]
    },
    {
      "cell_type": "code",
      "execution_count": 176,
      "metadata": {
        "id": "9i0XL6ILlvKE"
      },
      "outputs": [],
      "source": [
        "# Learning rate\n",
        "#==========\n",
        "#todo '''try different learning rates''\n",
        "#==========\n",
        "\n",
        "#[0.001, 0.01, 0.003, 0.005]\n",
        "alpha= 0.005"
      ]
    },
    {
      "cell_type": "code",
      "execution_count": 177,
      "metadata": {
        "id": "wRw7Y8dBlvKF"
      },
      "outputs": [],
      "source": [
        "# Iterations\n",
        "#==========\n",
        "#todo '''try different Iterations''\n",
        "#==========\n",
        "#[100, 200, 300, 500,1000]\n",
        "iterations = 500"
      ]
    },
    {
      "cell_type": "code",
      "execution_count": 178,
      "metadata": {
        "id": "WwjEzQxalvKF",
        "colab": {
          "base_uri": "https://localhost:8080/"
        },
        "outputId": "a0b45308-7bed-44bb-8cab-0c38cdc0b335"
      },
      "outputs": [
        {
          "output_type": "stream",
          "name": "stderr",
          "text": [
            "<ipython-input-172-0c06c5244595>:30: RuntimeWarning: divide by zero encountered in log\n",
            "  cost = -1/n * np.sum( np.multiply(np.log(fp), y) + np.multiply(np.log(1-fp), (1-y)))\n",
            "<ipython-input-172-0c06c5244595>:30: RuntimeWarning: invalid value encountered in multiply\n",
            "  cost = -1/n * np.sum( np.multiply(np.log(fp), y) + np.multiply(np.log(1-fp), (1-y)))\n"
          ]
        }
      ],
      "source": [
        "# Get the results from Logistic function\n",
        "y_hat,W,b,J = Logistic(X, y, W, b, n, alpha, iterations)"
      ]
    },
    {
      "cell_type": "code",
      "execution_count": 179,
      "metadata": {
        "id": "1TrpWI_ClvKF",
        "colab": {
          "base_uri": "https://localhost:8080/",
          "height": 927
        },
        "outputId": "2954db86-d6e4-46d1-8cba-9aa80cadc73b"
      },
      "outputs": [
        {
          "output_type": "display_data",
          "data": {
            "text/plain": [
              "<Figure size 640x480 with 1 Axes>"
            ],
            "image/png": "[encoded data removed]"
          },
          "metadata": {}
        },
        {
          "output_type": "display_data",
          "data": {
            "text/plain": [
              "<Figure size 640x480 with 1 Axes>"
            ],
            "image/png": "[encoded data removed]"
          },
          "metadata": {}
        }
      ],
      "source": [
        "# Plot figures\n",
        "plotBestFit(X, y, J, W, b, n, y_hat)"
      ]
    }
  ],
  "metadata": {
    "kernelspec": {
      "display_name": "Python 3",
      "language": "python",
      "name": "python3"
    },
    "language_info": {
      "codemirror_mode": {
        "name": "ipython",
        "version": 3
      },
      "file_extension": ".py",
      "mimetype": "text/x-python",
      "name": "python",
      "nbconvert_exporter": "python",
      "pygments_lexer": "ipython3",
      "version": "3.6.8"
    },
    "colab": {
      "provenance": []
    }
  },
  "nbformat": 4,
  "nbformat_minor": 0
}