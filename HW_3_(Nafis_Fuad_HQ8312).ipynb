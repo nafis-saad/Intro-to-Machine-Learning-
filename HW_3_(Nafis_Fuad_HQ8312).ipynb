{
  "nbformat": 4,
  "nbformat_minor": 0,
  "metadata": {
    "colab": {
      "provenance": []
    },
    "kernelspec": {
      "name": "python3",
      "display_name": "Python 3"
    },
    "language_info": {
      "name": "python"
    }
  },
  "cells": [
    {
      "cell_type": "code",
      "execution_count": 2,
      "metadata": {
        "id": "Z6JDjv-rP15E"
      },
      "outputs": [],
      "source": [
        "import numpy as np\n",
        "import pandas as pd\n",
        "from sklearn.model_selection import train_test_split\n",
        "from pandas import read_csv\n",
        "from sklearn.preprocessing import StandardScaler\n",
        "from sklearn.metrics import accuracy_score\n",
        "import random\n",
        "import matplotlib.pyplot as plt"
      ]
    },
    {
      "cell_type": "markdown",
      "source": [
        "**PART -1**"
      ],
      "metadata": {
        "id": "9_xC6lCHY9LP"
      }
    },
    {
      "cell_type": "code",
      "source": [
        "train = read_csv('/content/drive/MyDrive/Civil-7630/ML_HomeWork/fashion-mnist_train.csv')\n",
        "test = read_csv('/content/drive/MyDrive/Civil-7630/ML_HomeWork/fashion-mnist_test.csv')"
      ],
      "metadata": {
        "id": "vLyLaXgmY6Jh"
      },
      "execution_count": 3,
      "outputs": []
    },
    {
      "cell_type": "code",
      "source": [
        "#Example of the output variable\n",
        "\n",
        "instance = 25\n",
        "plt.imshow(np.reshape(np.array(train.iloc[instance,1:]), (-1,28)), cmap = 'gray')\n",
        "plt.title('Label\": %i' %train.iloc[instance, 0])\n",
        "plt.show()"
      ],
      "metadata": {
        "colab": {
          "base_uri": "https://localhost:8080/",
          "height": 452
        },
        "id": "IWOpo1xwZLAQ",
        "outputId": "5a81e3b4-a292-4a13-9552-5ecda3991e65"
      },
      "execution_count": 4,
      "outputs": [
        {
          "output_type": "display_data",
          "data": {
            "text/plain": [
              "<Figure size 640x480 with 1 Axes>"
            ],
            "image/png": "[encoded data removed]"
          },
          "metadata": {}
        }
      ]
    },
    {
      "cell_type": "code",
      "source": [
        "print(train.shape)\n",
        "print(test.shape)"
      ],
      "metadata": {
        "colab": {
          "base_uri": "https://localhost:8080/"
        },
        "id": "n59dYcujZTsk",
        "outputId": "cdd9f5e5-8249-4ec0-9661-4e672b84e451"
      },
      "execution_count": 5,
      "outputs": [
        {
          "output_type": "stream",
          "name": "stdout",
          "text": [
            "(60000, 785)\n",
            "(10000, 785)\n"
          ]
        }
      ]
    },
    {
      "cell_type": "code",
      "source": [
        "#In total 785 columns, the first column is the label of each image\n",
        "\n",
        "X_train = train.drop(columns=train.columns[0], axis = 1)\n",
        "Y_train = train[train.columns[0]]\n",
        "\n",
        "X_test = test.drop(columns=test.columns[0], axis = 1)\n",
        "Y_test  = test[test.columns[0]]"
      ],
      "metadata": {
        "id": "K3RUx-fgZZCU"
      },
      "execution_count": 6,
      "outputs": []
    },
    {
      "cell_type": "code",
      "source": [
        "print(X_train.shape)\n",
        "print(Y_train.shape)\n",
        "print(X_test.shape)\n",
        "print(Y_test.shape)"
      ],
      "metadata": {
        "colab": {
          "base_uri": "https://localhost:8080/"
        },
        "id": "LOHlop21ZiTJ",
        "outputId": "6c467170-370c-4180-f075-1d66cf6cd024"
      },
      "execution_count": 7,
      "outputs": [
        {
          "output_type": "stream",
          "name": "stdout",
          "text": [
            "(60000, 784)\n",
            "(60000,)\n",
            "(10000, 784)\n",
            "(10000,)\n"
          ]
        }
      ]
    },
    {
      "cell_type": "markdown",
      "source": [
        "**PART-2 **(Scale the Data)"
      ],
      "metadata": {
        "id": "-pHu2_y5ZrCz"
      }
    },
    {
      "cell_type": "code",
      "source": [
        "from sklearn.preprocessing import MinMaxScaler\n",
        "scaler = MinMaxScaler()\n",
        "X_train = scaler.fit_transform(X_train)\n",
        "X_test = scaler.transform(X_test)"
      ],
      "metadata": {
        "id": "Ep0oLpYoZwwK"
      },
      "execution_count": 8,
      "outputs": []
    },
    {
      "cell_type": "code",
      "source": [
        "from sklearn.decomposition import TruncatedSVD\n",
        "from tqdm import tqdm"
      ],
      "metadata": {
        "id": "1U5SRh_kZ1o7"
      },
      "execution_count": 9,
      "outputs": []
    },
    {
      "cell_type": "code",
      "source": [
        "# Fit SVD with the maximum number of components once\n",
        "max_n_components = X_train.shape[1] - 1  # Maximum possible components\n",
        "svd = TruncatedSVD(n_components=max_n_components, random_state=42)\n",
        "svd.fit(X_train)\n",
        "\n",
        "# Calculate the cumulative sum of explained variance ratios\n",
        "cumulative_variance = svd.explained_variance_ratio_.cumsum()\n",
        "\n",
        "# Find the number of components that explain at least 90% of the variance\n",
        "num_components_90_variance = next(i for i, total_variance in enumerate(cumulative_variance) if total_variance >= 0.9) + 1\n",
        "\n",
        "# Create the list of explained variances up to the number that explains at least 90% of the variance\n",
        "variance_list = cumulative_variance[:num_components_90_variance].tolist()\n",
        "\n",
        "\n",
        "print(f\"Number of components that explain at least 90% of variance: {num_components_90_variance}\")\n"
      ],
      "metadata": {
        "colab": {
          "base_uri": "https://localhost:8080/"
        },
        "id": "CF8RJKrQZ7ID",
        "outputId": "29c24456-86b2-4674-f5f2-cbc1ebbd39b2"
      },
      "execution_count": 10,
      "outputs": [
        {
          "output_type": "stream",
          "name": "stdout",
          "text": [
            "Number of components that explain at least 90% of variance: 84\n"
          ]
        }
      ]
    },
    {
      "cell_type": "code",
      "source": [
        "import matplotlib.pyplot as plt\n",
        "\n",
        "# Using the variance_list\n",
        "plt.figure(figsize=(12, 6))\n",
        "plt.plot(variance_list, marker='+', color='black', linewidth=1)\n",
        "\n",
        "# num_components_90_variance is the point at which 90% of the variance is explained\n",
        "plt.axvline(x=num_components_90_variance, color='r', linestyle='--', linewidth=1)\n",
        "plt.plot(num_components_90_variance, variance_list[num_components_90_variance-1], 'r*', markersize=12)  # x=num_components_90_variance because the count starts from 0\n",
        "\n",
        "plt.title(\"Proportion of Variance Explained\")\n",
        "plt.xlabel(\"Number of Components\")\n",
        "plt.ylabel(\"Proportion of Variance\")\n",
        "plt.grid(True)\n",
        "# plt.savefig('Proportion of Variance Explained.png')\n",
        "plt.show()\n"
      ],
      "metadata": {
        "colab": {
          "base_uri": "https://localhost:8080/",
          "height": 564
        },
        "id": "a3ytA_25a4Hq",
        "outputId": "d6c41d61-1dce-4b3c-b0a1-146a28edba8e"
      },
      "execution_count": 11,
      "outputs": [
        {
          "output_type": "display_data",
          "data": {
            "text/plain": [
              "<Figure size 1200x600 with 1 Axes>"
            ],
            "image/png": "[encoded data removed]"
          },
          "metadata": {}
        }
      ]
    },
    {
      "cell_type": "markdown",
      "source": [
        "**PART 3**"
      ],
      "metadata": {
        "id": "A6VwzRgsb0iG"
      }
    },
    {
      "cell_type": "code",
      "source": [
        "# We are choosing the value of n_component that gave us 90% of variance\n",
        "n_components = num_components_90_variance\n",
        "print(\"Selected n_component: \", n_components, \". It's variance ratio: \", variance_list[n_components - 1])\n",
        "\n",
        "# Initialize and fit-transform SVD with the selected number of components\n",
        "svd = TruncatedSVD(n_components=n_components, random_state=42)\n",
        "X_train_transformed = svd.fit_transform(X_train)\n",
        "\n",
        "# Transform the test data using the already fitted SVD\n",
        "X_test_transformed = svd.transform(X_test)\n",
        "\n",
        "# Output the shape of the transformed data\n",
        "print(\"Transformed X_train shape:\", X_train_transformed.shape)\n",
        "print(\"Transformed X_test shape:\", X_test_transformed.shape)\n"
      ],
      "metadata": {
        "colab": {
          "base_uri": "https://localhost:8080/"
        },
        "id": "rJQERwH1bxYL",
        "outputId": "2970a4da-2e20-4b0e-82b6-d775e1a96fc6"
      },
      "execution_count": 12,
      "outputs": [
        {
          "output_type": "stream",
          "name": "stdout",
          "text": [
            "Selected n_component:  84 . It's variance ratio:  0.9003967961014389\n",
            "Transformed X_train shape: (60000, 84)\n",
            "Transformed X_test shape: (10000, 84)\n"
          ]
        }
      ]
    },
    {
      "cell_type": "code",
      "source": [
        "#Logistic Regression on the original dataset\n",
        "from sklearn.linear_model import SGDClassifier\n",
        "\n",
        " #creating validation for hypertuning learning rate\n",
        "XX_train, XX_val, YY_train, YY_val = train_test_split(X_train, Y_train, test_size=0.2, random_state=42)\n",
        "\n",
        "scores = []\n",
        "learning_rates = []\n",
        "initial_lrate = 0.01\n",
        "for i in tqdm(range(10)):\n",
        "    lr = initial_lrate * (1 / (1 + 0.01 * i))  #tying with different lr\n",
        "    LogR =  SGDClassifier(random_state=0, alpha = lr, loss='log_loss').fit(XX_train, YY_train)\n",
        "    scores.append(LogR.score(XX_val, YY_val))\n",
        "    learning_rates.append(lr)"
      ],
      "metadata": {
        "colab": {
          "base_uri": "https://localhost:8080/"
        },
        "id": "9ymx_hZ6cnpd",
        "outputId": "6208d069-4d3c-4665-e0eb-c94dda13d101"
      },
      "execution_count": 13,
      "outputs": [
        {
          "output_type": "stream",
          "name": "stderr",
          "text": [
            "100%|██████████| 10/10 [01:53<00:00, 11.33s/it]\n"
          ]
        }
      ]
    },
    {
      "cell_type": "code",
      "source": [
        "a = learning_rates[scores.index(max(scores))]\n",
        "print(\"Best value of learning rate: \", a)\n",
        "\n",
        "#now on test data\n",
        "LR =  SGDClassifier(random_state=0, alpha = learning_rates[scores.index(max(scores))], loss='log_loss').fit(X_train, Y_train)\n",
        "print(\"Accuracy of Logistic Regression on the original dataset: \", round(LR.score(X_test, Y_test)*100,4))"
      ],
      "metadata": {
        "colab": {
          "base_uri": "https://localhost:8080/"
        },
        "id": "_AH3dFiAdQMY",
        "outputId": "3afc7478-86f2-4927-d82d-d62767eac5e2"
      },
      "execution_count": 14,
      "outputs": [
        {
          "output_type": "stream",
          "name": "stdout",
          "text": [
            "Best value of learning rate:  0.009174311926605503\n",
            "Accuracy of Logistic Regression on the original dataset:  81.87\n"
          ]
        }
      ]
    },
    {
      "cell_type": "code",
      "source": [
        "#Logistic Regression on the reduced dataset\n",
        "from sklearn.linear_model import SGDClassifier\n",
        "LR =  SGDClassifier(alpha = 0.001, loss='log_loss').fit(X_train_transformed, Y_train)\n",
        "print(\"Accuracy of Logistic Regression on the reduced dataset: \", round(LR.score(X_test_transformed, Y_test)*100,4))"
      ],
      "metadata": {
        "colab": {
          "base_uri": "https://localhost:8080/"
        },
        "id": "dgkH80g-d16h",
        "outputId": "146a4048-8ee0-496f-914b-305afc4d2475"
      },
      "execution_count": 15,
      "outputs": [
        {
          "output_type": "stream",
          "name": "stdout",
          "text": [
            "Accuracy of Logistic Regression on the reduced dataset:  82.7\n"
          ]
        }
      ]
    },
    {
      "cell_type": "code",
      "source": [
        "from sklearn.model_selection import StratifiedKFold, cross_val_score\n",
        "from sklearn.neighbors import KNeighborsClassifier\n",
        "import numpy as np\n",
        "\n",
        "# Define the k-values ahead of time\n",
        "k_values = [1, 7, 18, int(np.sqrt(len(X_train)))]\n",
        "\n",
        "# Precompute the accuracy for each k using cross-validation\n",
        "scores = {}\n",
        "for k in k_values:\n",
        "    neigh = KNeighborsClassifier(n_neighbors=k)\n",
        "    score = cross_val_score(neigh, X_train, Y_train, cv=4, scoring='accuracy')\n",
        "    scores[k] = np.mean(score)\n",
        "\n",
        "# Find the k with the highest average score\n",
        "best_k = max(scores, key=scores.get)\n",
        "\n",
        "# Train and test using the best k-value\n",
        "neigh = KNeighborsClassifier(n_neighbors=best_k)\n",
        "neigh.fit(X_train, Y_train)\n",
        "y_pred = neigh.predict(X_test)\n",
        "\n",
        "# If you need the accuracy for the test set:\n",
        "test_accuracy = accuracy_score(Y_test, y_pred)\n"
      ],
      "metadata": {
        "id": "Uu1W6En1e0L6"
      },
      "execution_count": 16,
      "outputs": []
    },
    {
      "cell_type": "code",
      "source": [
        "print(\"Accuracy of KNN on the original dataset: \", round(accuracy_score(Y_test,y_pred)*100,4))"
      ],
      "metadata": {
        "colab": {
          "base_uri": "https://localhost:8080/"
        },
        "id": "6X86NJFpe6iU",
        "outputId": "8bc4cb5c-804e-48e8-a106-6ff48b3e87de"
      },
      "execution_count": 17,
      "outputs": [
        {
          "output_type": "stream",
          "name": "stdout",
          "text": [
            "Accuracy of KNN on the original dataset:  85.6\n"
          ]
        }
      ]
    },
    {
      "cell_type": "code",
      "source": [
        "from sklearn.metrics import accuracy_score\n",
        "\n",
        "\n",
        "\n",
        "# Calculate average cross-validation score for each k-value\n",
        "scores = {k: np.mean(cross_val_score(KNeighborsClassifier(n_neighbors=k),\n",
        "                                      X_train_transformed, Y_train, cv=4, scoring='accuracy'))\n",
        "          for k in k_values}\n",
        "\n",
        "# Find the best k-value with the highest average score\n",
        "best_k = max(scores, key=scores.get)\n",
        "\n",
        "# Train and test using the best k-value on the reduced dataset\n",
        "neigh = KNeighborsClassifier(n_neighbors=best_k)\n",
        "neigh.fit(X_train_transformed, Y_train)\n",
        "y_pred = neigh.predict(X_test_transformed)\n",
        "\n",
        "# Calculate and print the accuracy\n",
        "accuracy = accuracy_score(Y_test, y_pred)\n",
        "print(\"Accuracy of KNN on the reduced dataset: \", round(accuracy * 100, 4))\n"
      ],
      "metadata": {
        "colab": {
          "base_uri": "https://localhost:8080/"
        },
        "id": "ivXoNG5GhjeJ",
        "outputId": "8ed5e8ec-70f7-46cb-fbf4-21473c00af17"
      },
      "execution_count": 19,
      "outputs": [
        {
          "output_type": "stream",
          "name": "stdout",
          "text": [
            "Accuracy of KNN on the reduced dataset:  86.79\n"
          ]
        }
      ]
    },
    {
      "cell_type": "code",
      "source": [
        "#Naive Bayes on the original dataset\n",
        "\n",
        "from sklearn.naive_bayes import GaussianNB\n",
        "X_train = X_train*255.0\n",
        "X_test = X_test*255.0\n",
        "\n",
        "svd = TruncatedSVD(n_components=500)\n",
        "\n",
        "X_train_transformed = svd.fit_transform(X_train)\n",
        "\n",
        "X_test_transformed = svd.transform(X_test)\n",
        "\n",
        "gnb = GaussianNB(var_smoothing = 0.05)\n",
        "y_pred = gnb.fit(X_train, Y_train).predict(X_test)\n",
        "print(\"Accuracy of Naive Bayes on the original dataset: \", round(accuracy_score(Y_test,y_pred)*100,4))"
      ],
      "metadata": {
        "colab": {
          "base_uri": "https://localhost:8080/"
        },
        "id": "YWxJSvHtjM_M",
        "outputId": "6f07ebee-7041-41d9-b188-cf158ff1a2bb"
      },
      "execution_count": 20,
      "outputs": [
        {
          "output_type": "stream",
          "name": "stdout",
          "text": [
            "Accuracy of Naive Bayes on the original dataset:  67.82\n"
          ]
        }
      ]
    },
    {
      "cell_type": "code",
      "source": [
        "#Naive Bayes on the reduced dataset\n",
        "gnb = GaussianNB(var_smoothing = 0.05)\n",
        "y_pred = gnb.fit(X_train_transformed, Y_train).predict(X_test_transformed)\n",
        "print(\"Accuracy of Naive Bayes on the reduced dataset: \", round(accuracy_score(Y_test,y_pred)*100,4))"
      ],
      "metadata": {
        "colab": {
          "base_uri": "https://localhost:8080/"
        },
        "id": "kvtgjlmtjyf1",
        "outputId": "b44cdc81-68ca-47ab-f1f2-3c6d2c06b091"
      },
      "execution_count": 21,
      "outputs": [
        {
          "output_type": "stream",
          "name": "stdout",
          "text": [
            "Accuracy of Naive Bayes on the reduced dataset:  69.64\n"
          ]
        }
      ]
    }
  ]
}